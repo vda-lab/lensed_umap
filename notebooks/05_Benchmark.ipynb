{
 "cells": [
  {
   "cell_type": "markdown",
   "id": "7054d5ff-9a2d-43ea-bb8f-069b80da4ff9",
   "metadata": {},
   "source": [
    "# Benchmark\n",
    "\n",
    "This notebook runs an (artificial) benchmark to show how the computational cost of UMAP and the lens types varies with a dataset's size and several parameters. The results indicate how the lens types scale to larger UMAP models. This benchmark is not designed to reflect realistic data. Instead, random data containing 5 classes is generated using sklearn."
   ]
  },
  {
   "cell_type": "code",
   "execution_count": 1,
   "id": "92a864bc-3cae-48ca-904a-d58901ebef4b",
   "metadata": {},
   "outputs": [],
   "source": [
    "# Data\n",
    "import time\n",
    "from itertools import product\n",
    "from datetime import datetime, timedelta\n",
    "from sklearn.datasets import make_classification, make_blobs\n",
    "\n",
    "# UMAP\n",
    "from umap import UMAP\n",
    "import lensed_umap as lu"
   ]
  },
  {
   "cell_type": "markdown",
   "id": "6fd7395a-c169-473a-9729-c940a9b419c0",
   "metadata": {},
   "source": [
    "Some numba code paths in UMAP and lensed UMAP only compile once called. We trigger that compilation here, to make sure it does not affect the performance sweep."
   ]
  },
  {
   "cell_type": "code",
   "execution_count": 2,
   "id": "14d4ee9e-7167-4b76-89fe-a0d244372fbc",
   "metadata": {
    "jupyter": {
     "source_hidden": true
    }
   },
   "outputs": [],
   "source": [
    "X, _ = make_classification()\n",
    "lens, _ = make_blobs()\n",
    "\n",
    "projector = UMAP(force_approximation_algorithm=True).fit(X)\n",
    "_ = lu.apply_lens(projector, lens[:, 0])\n",
    "_ = lu.apply_mask(projector, UMAP().fit(lens))\n",
    "_ = lu.apply_local_mask(projector, lens)"
   ]
  },
  {
   "cell_type": "markdown",
   "id": "e740cc79-8f3c-4b6f-8728-9dd6eda246fb",
   "metadata": {},
   "source": [
    "## Implement sweep functionality\n",
    "\n",
    "These cells implement the parameter sweep that records the compute, apply, and embed time for UMAP and the lens types. Here, the `compute time` reflects the time taken to build a UMAP model, both for the initial model and the mask-model used by the global mask. The `apply time` reflects the time required to filter edges from the original UMAP model based on the lens. Finally, `embed time` captures how long it takes to update the embedding. We also record how many edges remain after the lens is applied to compare the lens' strengths. Several parameters are varied so their influence can be investigated. The process boils down to generating 5 datasets and constructing a umap model given a number of neighbours $k$. Then, each lens is aplied with the given settings to each of the UMAP models. By varying both the number of data points and UMAP's number of neighbours $k$, we can isolate their influece on the run times."
   ]
  },
  {
   "cell_type": "code",
   "execution_count": 3,
   "id": "55ac261d-d611-43ac-b585-93d41e6860bd",
   "metadata": {},
   "outputs": [],
   "source": [
    "params = {\n",
    "    'n_repeats': 5,\n",
    "    'data': {\n",
    "        'sizes': [100, 1000, 10000, 100000],\n",
    "    },\n",
    "    'umap': {\n",
    "        'n_neighbors': [10, 20, 40, 80],\n",
    "    },\n",
    "    'global_lens': {\n",
    "        'strategies': ['regular', 'balanced'],\n",
    "        'resolutions': [3, 6, 12, 24],\n",
    "    },\n",
    "    'global_mask': {\n",
    "        'n_neighbors': [20, 40, 80, 160],\n",
    "    },\n",
    "    'local_mask': {\n",
    "        'n_neighbors': [5, 10, 20, 40],\n",
    "    },\n",
    "}"
   ]
  },
  {
   "cell_type": "code",
   "execution_count": 4,
   "id": "1c56b758-4171-4117-921e-0fef22ad5bc7",
   "metadata": {},
   "outputs": [],
   "source": [
    "def time_task(task, *args, **kwargs):\n",
    "    \"\"\"Outputs compute time in seconds.\"\"\"\n",
    "    start_time = time.perf_counter()\n",
    "    output = task(*args, **kwargs)\n",
    "    end_time = time.perf_counter()\n",
    "    return end_time - start_time, output\n",
    "\n",
    "\n",
    "def num_edges(projector):\n",
    "    \"\"\"Access the number of edges in the umap model.\"\"\"\n",
    "    return len(projector.graph_.data)\n",
    "\n",
    "\n",
    "def build_umap(data, n_neighbors):\n",
    "    \"\"\"Construct UMAP model without embedding it.\"\"\"\n",
    "    return UMAP(\n",
    "        n_neighbors=n_neighbors,\n",
    "        transform_mode=\"graph\",\n",
    "    ).fit(data)\n",
    "\n",
    "\n",
    "def write_line(file, *values):\n",
    "    \"\"\"Writes given values as csv line.\"\"\"\n",
    "    file.write(\",\".join([str(v) for v in values]) + \"\\n\")\n",
    "\n",
    "\n",
    "def generate_data(size):\n",
    "    \"\"\"Generates dataset and lens values.\"\"\"\n",
    "    (X, y_data) = make_classification(\n",
    "        n_samples=size,\n",
    "        n_features=20,\n",
    "        n_classes=5,\n",
    "        n_clusters_per_class=2,\n",
    "        n_informative=10,\n",
    "        n_redundant=5,\n",
    "        n_repeated=0,\n",
    "    )\n",
    "    (lens, y_lens) = make_blobs(n_samples=size, n_features=1)\n",
    "    return X, lens\n",
    "\n",
    "\n",
    "def run_umap(X, n_points, n_neighbors, umap_file=None, **params):\n",
    "    \"\"\"Evaluates & stores UMAP compute times.\"\"\"\n",
    "    build_time, projector = time_task(build_umap, X, n_neighbors)\n",
    "    embed_time, projector = time_task(lu.embed_graph, projector)\n",
    "    write_line(\n",
    "        umap_file,\n",
    "        params[\"repeat\"],\n",
    "        n_points,\n",
    "        n_neighbors,\n",
    "        build_time,\n",
    "        -1,\n",
    "        embed_time,\n",
    "        num_edges(projector),\n",
    "    )\n",
    "    return projector\n",
    "\n",
    "\n",
    "def run_global_lens(projector, lens, global_lens=None, global_lens_file=None, **params):\n",
    "    \"\"\"Evaluates & stores global lens compute times.\"\"\"\n",
    "    for strategy, resolution in product(*global_lens.values()):\n",
    "        apply_time, lensed_projector = time_task(\n",
    "            lu.apply_lens,\n",
    "            projector,\n",
    "            lens[:, 0],\n",
    "            discretization=strategy,\n",
    "            resolution=resolution,\n",
    "            skip_embedding=True,\n",
    "        )\n",
    "        lensed_projector.embedding_ = projector.embedding_\n",
    "        embed_time, lensed_projector = time_task(lu.embed_graph, lensed_projector)\n",
    "        write_line(\n",
    "            global_lens_file,\n",
    "            params[\"repeat\"],\n",
    "            params[\"n_points\"],\n",
    "            params[\"n_neighbors\"],\n",
    "            strategy,\n",
    "            resolution,\n",
    "            -1,\n",
    "            apply_time,\n",
    "            embed_time,\n",
    "            num_edges(lensed_projector),\n",
    "        )\n",
    "\n",
    "\n",
    "def run_global_mask(projector, lens, global_mask=None, global_mask_file=None, **params):\n",
    "    \"\"\"Evaluates & stores global mask compute times.\"\"\"\n",
    "    for n_neighbors in global_mask[\"n_neighbors\"]:\n",
    "        if n_neighbors >= lens.shape[0]:\n",
    "            continue\n",
    "        build_time, masker = time_task(build_umap, lens, n_neighbors)\n",
    "        apply_time, lensed_projector = time_task(\n",
    "            lu.apply_mask, projector, masker, skip_embedding=True\n",
    "        )\n",
    "        lensed_projector.embedding_ = projector.embedding_\n",
    "        embed_time, lensed_projector = time_task(lu.embed_graph, lensed_projector)\n",
    "        write_line(\n",
    "            global_mask_file,\n",
    "            params[\"repeat\"],\n",
    "            params[\"n_points\"],\n",
    "            params[\"n_neighbors\"],\n",
    "            n_neighbors,\n",
    "            build_time,\n",
    "            apply_time,\n",
    "            embed_time,\n",
    "            num_edges(lensed_projector),\n",
    "        )\n",
    "\n",
    "\n",
    "def run_local_mask(projector, lens, local_mask=None, local_mask_file=None, **params):\n",
    "    \"\"\"Evaluates & stores local mask compute times.\"\"\"\n",
    "    for n_neighbors in local_mask[\"n_neighbors\"]:\n",
    "        if n_neighbors >= params[\"n_neighbors\"]:\n",
    "            continue\n",
    "        apply_time, lensed_projector = time_task(\n",
    "            lu.apply_local_mask,\n",
    "            projector,\n",
    "            lens,\n",
    "            n_neighbors=n_neighbors,\n",
    "            skip_embedding=True,\n",
    "        )\n",
    "        lensed_projector.embedding_ = projector.embedding_\n",
    "        embed_time, lensed_projector = time_task(lu.embed_graph, lensed_projector)\n",
    "        write_line(\n",
    "            local_mask_file,\n",
    "            params[\"repeat\"],\n",
    "            params[\"n_points\"],\n",
    "            params[\"n_neighbors\"],\n",
    "            n_neighbors,\n",
    "            -1,\n",
    "            apply_time,\n",
    "            embed_time,\n",
    "            num_edges(lensed_projector),\n",
    "        )\n",
    "\n",
    "\n",
    "def run_sizes_and_neighbors(data=None, umap=None, **params):\n",
    "    for n_points in data[\"sizes\"]:\n",
    "        print(f\"   evaluating {n_points} points\")\n",
    "        # Reusing dataset enables comparison accross num neighbors\n",
    "        # at some decrease to generality, but we don't assume this\n",
    "        # data represents real-world data anyway...\n",
    "        X, lens = generate_data(n_points)\n",
    "        for n_neighbors in umap[\"n_neighbors\"]:\n",
    "            projector = run_umap(X, n_points, n_neighbors, **params)\n",
    "            run_global_lens(\n",
    "                projector, lens, n_points=n_points, n_neighbors=n_neighbors, **params\n",
    "            )\n",
    "            run_global_mask(\n",
    "                projector, lens, n_points=n_points, n_neighbors=n_neighbors, **params\n",
    "            )\n",
    "            run_local_mask(\n",
    "                projector, lens, n_points=n_points, n_neighbors=n_neighbors, **params\n",
    "            )\n",
    "\n",
    "\n",
    "def run_repeats(n_repeats, **params):\n",
    "    \"\"\"Logs when repeats starts and estimates remaining run time.\"\"\"\n",
    "    prev_start = None\n",
    "    durations = []\n",
    "\n",
    "    for i in range(n_repeats):\n",
    "        now = datetime.now()\n",
    "        print(f'Starting repeat {i} at {now.strftime(\"%H:%M:%S\")}')\n",
    "        if prev_start:\n",
    "            durations.append(now - prev_start)\n",
    "            avg_duration = sum(durations, timedelta(0)) / len(durations)\n",
    "            time_remaining = (n_repeats - i) * avg_duration\n",
    "            print(f\"   estimate time remaining: {time_remaining}\")\n",
    "        prev_start = now\n",
    "\n",
    "        # Run all settings for this repeat\n",
    "        run_sizes_and_neighbors(repeat=i, **params)\n",
    "\n",
    "    now = datetime.now()\n",
    "    print(f'Sweep finised at {now.strftime(\"%H:%M:%S\")}')\n",
    "\n",
    "\n",
    "def init_file(label, now, params):\n",
    "    \"\"\"Constructs a .csv file with column header to write values in.\"\"\"\n",
    "    name = f'./data/generated/benchmark_{label}_{now.strftime(\"%Y_%m_%d_%H_%M_%S\")}.csv'\n",
    "    base_header = [\"repeat\", \"n_points\"]\n",
    "    if label != \"umap\":\n",
    "        base_header.append(\"n_neighbors\")\n",
    "    method_header = [*params[label].keys()]\n",
    "    measurement_header = [\"compute_time\", \"apply_time\", \"embed_time\", \"n_edges\"]\n",
    "\n",
    "    handle = open(name, \"w\")\n",
    "    handle.write(\",\".join(base_header + method_header + measurement_header) + \"\\n\")\n",
    "    return handle\n",
    "\n",
    "\n",
    "def main(params):\n",
    "    \"\"\"Creates output files\"\"\"\n",
    "    # Create files\n",
    "    now = datetime.now()\n",
    "    umap_file = init_file(\"umap\", now, params)\n",
    "    global_lens_file = init_file(\"global_lens\", now, params)\n",
    "    global_mask_file = init_file(\"global_mask\", now, params)\n",
    "    local_mask_file = init_file(\"local_mask\", now, params)\n",
    "\n",
    "    # Actual sweep\n",
    "    run_repeats(\n",
    "        umap_file=umap_file,\n",
    "        global_lens_file=global_lens_file,\n",
    "        global_mask_file=global_mask_file,\n",
    "        local_mask_file=local_mask_file,\n",
    "        **params,\n",
    "    )\n",
    "\n",
    "    # Close handles\n",
    "    umap_file.close()\n",
    "    global_lens_file.close()\n",
    "    global_mask_file.close()\n",
    "    local_mask_file.close()"
   ]
  },
  {
   "cell_type": "markdown",
   "id": "71aa9a35-a2f2-4a87-ba67-32403ef24ca5",
   "metadata": {},
   "source": [
    "The cell below runs the complete sweep. Time remaining is estimated once the first complete repeat finishes. The full sweep took about 2 hours on our machine. (The loops can be refactored to pre-compute each dataset's nearest neighbours once to speed up the process if UMAP's compute time is not of interest.)"
   ]
  },
  {
   "cell_type": "code",
   "execution_count": 5,
   "id": "a1cc9a0c-6a62-4cc8-9456-199ded11550f",
   "metadata": {},
   "outputs": [
    {
     "name": "stdout",
     "output_type": "stream",
     "text": [
      "Starting repeat 0 at 17:25:42\n",
      "   evaluating 100 points\n",
      "   evaluating 1000 points\n",
      "   evaluating 10000 points\n",
      "   evaluating 100000 points\n",
      "Starting repeat 1 at 17:45:48\n",
      "   estimate time remaining: 1:20:21.658436\n",
      "   evaluating 100 points\n",
      "   evaluating 1000 points\n",
      "   evaluating 10000 points\n",
      "   evaluating 100000 points\n",
      "Starting repeat 2 at 18:06:09\n",
      "   estimate time remaining: 1:00:40.090704\n",
      "   evaluating 100 points\n",
      "   evaluating 1000 points\n",
      "   evaluating 10000 points\n",
      "   evaluating 100000 points\n",
      "Starting repeat 3 at 18:30:33\n",
      "   estimate time remaining: 0:43:13.903960\n",
      "   evaluating 100 points\n",
      "   evaluating 1000 points\n",
      "   evaluating 10000 points\n",
      "   evaluating 100000 points\n",
      "Starting repeat 4 at 18:59:16\n",
      "   estimate time remaining: 0:23:23.451917\n",
      "   evaluating 100 points\n",
      "   evaluating 1000 points\n",
      "   evaluating 10000 points\n",
      "   evaluating 100000 points\n",
      "Sweep finised at 19:32:17\n"
     ]
    }
   ],
   "source": [
    "main(params)"
   ]
  },
  {
   "cell_type": "markdown",
   "id": "fc09449f-2ca3-4358-b0bf-2ae43ba66c1f",
   "metadata": {},
   "source": [
    "## The Results\n",
    "In this section, the parameter sweep data is plotted and analysed to determine how the lens-type's run times behave given a UMAP models size (points and edges), and their parameters. First, we load the plotting libraries and disable future warnings."
   ]
  },
  {
   "cell_type": "code",
   "execution_count": 2,
   "id": "837f04d8-6f0d-4b23-bae5-4d2870aefbe7",
   "metadata": {},
   "outputs": [],
   "source": [
    "import pandas as pd\n",
    "import seaborn as sns\n",
    "import matplotlib.pyplot as plt\n",
    "from matplotlib.lines import Line2D\n",
    "\n",
    "from _plotting import *\n",
    "configure_matplotlib()\n",
    "\n",
    "import warnings\n",
    "warnings.simplefilter(action=\"ignore\", category=FutureWarning)"
   ]
  },
  {
   "cell_type": "markdown",
   "id": "15f2ebb0-51fe-4fb5-a3eb-6ef61bb59fe2",
   "metadata": {},
   "source": [
    "The data was written to different files because each lens type has different parameters. We concatenate the data files and leave the irrelevant columns empty. In addition, we perform some processing: \n",
    "\n",
    "- columns are renamed to be singular and use an `_` instead of a space.\n",
    "- numerical lens parameters are converted to be a string so they can be used as categories.\n",
    "- the total time, and total time excluding embedding are computed from the individual time measurements.\n",
    "- negative values are replaced with NaN as they indicate irrelevant / missing values. For example, the global lens does not have a compute-step (at least not one that is measureable as a distinct step in the current implementation)."
   ]
  },
  {
   "cell_type": "code",
   "execution_count": 3,
   "id": "bfaac234-121f-482f-adb7-a02cbd14731b",
   "metadata": {},
   "outputs": [],
   "source": [
    "def load_data():\n",
    "    # Load files\n",
    "    df = pd.concat([\n",
    "        pd.read_csv(path).astype({\n",
    "            'n_neighbors': 'str', \n",
    "            **{param: 'str' for param in params}\n",
    "        }).assign(algorithm=algorithm)\n",
    "        for algorithm, path, params in [\n",
    "            ('umap', './data/generated/benchmark_umap_2024_02_02_17_25_42.csv', []),\n",
    "            ('global_lens', './data/generated/benchmark_global_lens_2024_02_02_17_25_42.csv', ['resolutions', 'strategies']),\n",
    "            ('global_mask', './data/generated/benchmark_global_mask_2024_02_02_17_25_42.csv', ['n_neighbors.1']),\n",
    "            ('local_mask', './data/generated/benchmark_local_mask_2024_02_02_17_25_42.csv', ['n_neighbors.1'])\n",
    "        ]\n",
    "    ])\n",
    "\n",
    "    # Change column names & types\n",
    "    df = df.mask(lambda x: x == -1).rename(columns={\n",
    "        'n_neighbors.1': 'n_mask_neighbors',\n",
    "        'resolutions': 'resolution',\n",
    "        'strategies': 'strategy'\n",
    "    })\n",
    "    \n",
    "    # Add columns\n",
    "    df['non_embed_time'] = df.compute_time.fillna(0) + df.apply_time.fillna(0)\n",
    "    df['total_time'] = df.non_embed_time + df.embed_time\n",
    "    andims = ['algorithm', 'n_points', 'n_neighbors', 'strategy', 'resolution', 'n_mask_neighbors', 'repeat']\n",
    "    vdims = ['total_time', 'compute_time', 'apply_time', 'embed_time', 'non_embed_time', 'n_edges']\n",
    "    return df[andims + vdims]"
   ]
  },
  {
   "cell_type": "markdown",
   "id": "2e1f991a-f2fc-4bc8-a331-6d2226bef679",
   "metadata": {},
   "source": [
    "Here, we actually load the data and separate the lens values from UMAP's values so we can join them later to access the UMAP model's edge count."
   ]
  },
  {
   "cell_type": "code",
   "execution_count": 4,
   "id": "359e0abd-5e52-47cf-ac96-ae05f3c94cd5",
   "metadata": {},
   "outputs": [],
   "source": [
    "df = load_data()\n",
    "id_cols = ['n_points', 'n_neighbors', 'repeat']\n",
    "udf = df.query('algorithm==\"umap\"').set_index(id_cols)['n_edges']"
   ]
  },
  {
   "cell_type": "markdown",
   "id": "9c042d3f-15f5-475f-a58d-ed4a6d49c6ed",
   "metadata": {},
   "source": [
    "We limit our discussion of the lens type's scaling behaviour to the `apply time`. This step is not the computational bottleneck. Updating the embedding takes orders of magnitude more time and scales with the output size rather than the input size (from the lenses perspective). Computing a mask model (for the global mask) is also more expensive. This cost scales with the number of data points and neighbours considered.\n",
    "\n",
    "First, we define several parameters specifying the figure's sizes and padding. These are tuned so the resulting images fits precisely in our manuscript. See `help(subplot_fractions)` for an explanation of our plotting workflow."
   ]
  },
  {
   "cell_type": "code",
   "execution_count": 5,
   "id": "5a3bf8c8-5e3a-4560-ba84-7f4b778055bd",
   "metadata": {},
   "outputs": [
    {
     "name": "stdout",
     "output_type": "stream",
     "text": [
      "(0.3148148148148148, 0.3703703703703704)\n"
     ]
    }
   ],
   "source": [
    "print(subplot_fractions(3, 1))\n",
    "base_width = 2.25073\n",
    "with_bar_width = 2.65215\n",
    "title_padding = 0.9\n",
    "bottom_padding = 0.2\n",
    "height = base_width * 0.618 / (title_padding - bottom_padding)\n",
    "time_range = [0.95 * df.apply_time.min(), 1.05 * df.apply_time.max()]"
   ]
  },
  {
   "cell_type": "markdown",
   "id": "4b6aef72-09c8-4ae8-8732-7a1c97206f69",
   "metadata": {},
   "source": [
    "Below, we plot a regression line (with 95% confidence interval) indicating how the global lens' apply time scales given the input model's edge count. A line is fitted for each dataset size separately, as is visible by the distinct line segments. Generally, we see the global lens scales with the input edge count, rather than the number of data points. This finding matches our computational analysis."
   ]
  },
  {
   "cell_type": "code",
   "execution_count": 37,
   "id": "72acf658",
   "metadata": {},
   "outputs": [],
   "source": [
    "from matplotlib.ticker import FixedLocator\n",
    "from functools import partial"
   ]
  },
  {
   "cell_type": "code",
   "execution_count": 51,
   "id": "1d9302f7",
   "metadata": {},
   "outputs": [
    {
     "data": {
      "image/png": "[encoded data removed]",
      "text/plain": [
       "<Figure size 265.215x198.707 with 1 Axes>"
      ]
     },
     "metadata": {},
     "output_type": "display_data"
    }
   ],
   "source": [
    "fig = plt.figure(figsize=(with_bar_width, height))\n",
    "plt.subplots_adjust(0.02 + 0.15, bottom_padding, 1, title_padding)\n",
    "gldf = df.query('algorithm==\"global_lens\"').join(udf, on=id_cols, rsuffix='_umap')\n",
    "gldf.apply_time *= 1000\n",
    "for n in [100, 1000, 10000, 100000]:\n",
    "    for i, s in enumerate(['regular', 'balanced']):\n",
    "        vals = gldf.query(f\"n_points=={n} & strategy=='{s}'\")\n",
    "        sns.regplot(\n",
    "            x=vals['n_edges_umap'],\n",
    "            y=vals['apply_time'],\n",
    "            ci=95,\n",
    "            order=1,\n",
    "            units=vals['repeat'],\n",
    "            color=f'C{i}', \n",
    "            line_kws={'linewidth': 1},\n",
    "            scatter_kws=dict(edgecolor='none', linewidths=0, s=2)\n",
    "        )\n",
    "\n",
    "# Legends\n",
    "adjust_legend_subtitles(\n",
    "    plt.legend(\n",
    "        title='Strategy',\n",
    "        handles=[\n",
    "            Line2D([], [], color='C0', label='regular'),\n",
    "            Line2D([], [], color='C1', label='balanced')\n",
    "        ])\n",
    ")\n",
    "\n",
    "# Draw log y-ticks\n",
    "plt.title('Global lens')\n",
    "plt.xscale('log')\n",
    "plt.yscale('log')\n",
    "plt.ylabel('Time (ms)')\n",
    "plt.xlabel('Num. edges')\n",
    "plt.ylim([t * 1000 for t in time_range])\n",
    "yticks = plt.yticks()[0]\n",
    "plt.savefig('./figures/benchmark_global_lens.pdf', pad_inches=0)\n",
    "plt.show()"
   ]
  },
  {
   "cell_type": "markdown",
   "id": "0a07ab83-657a-4225-be0e-ba8d2c5b2475",
   "metadata": {},
   "source": [
    "Next, we show the same figure for the global mask. Here, the scaling is more sensitive to the dataset size and mask neighbour count, rather than the input edge count. This makes sense as the filtering step has to iterate over the edge union between the input and mask model. Note that the mask-model construction time also depends mostly on the dataset size and mask neighbours, making real-world performance more expensive than this plot suggests."
   ]
  },
  {
   "cell_type": "code",
   "execution_count": 52,
   "id": "84cd4bea-9af4-4567-bd86-a8273f8c525e",
   "metadata": {
    "jupyter": {
     "source_hidden": true
    }
   },
   "outputs": [
    {
     "data": {
      "image/png": "[encoded data removed]",
      "text/plain": [
       "<Figure size 225.073x198.707 with 1 Axes>"
      ]
     },
     "metadata": {},
     "output_type": "display_data"
    }
   ],
   "source": [
    "fig = plt.figure(figsize=(base_width, height))\n",
    "plt.subplots_adjust(0.02 * (1+(15/85)), bottom_padding, 1, title_padding)\n",
    "gldf = df.query('algorithm==\"global_mask\"').join(udf, on=id_cols, rsuffix='_umap')\n",
    "blues = plt.get_cmap('Blues').resampled(6)\n",
    "n_mask_neighbors = [20, 40, 80, 160]\n",
    "gldf.apply_time *= 1000\n",
    "for n in [100, 1000, 10000, 100000]:\n",
    "    for i, k in enumerate(n_mask_neighbors):\n",
    "        if k >= n: \n",
    "            continue\n",
    "        sns.regplot(\n",
    "            gldf.query(f\"n_points=={n} & n_mask_neighbors=='{k}'\"), \n",
    "            x='n_edges_umap', \n",
    "            y='apply_time', \n",
    "            ci=95, \n",
    "            order=1,\n",
    "            units='repeat', \n",
    "            color=blues(i+1), \n",
    "            line_kws={'linewidth': 1},\n",
    "            scatter_kws=dict(edgecolor='none', linewidths=0, s=2)\n",
    "        )\n",
    "\n",
    "adjust_legend_subtitles(\n",
    "    plt.legend(\n",
    "        title='Mask neighbours',\n",
    "        handles=[\n",
    "            Line2D([], [], color=blues(i+1), label=k)\n",
    "            for i, k in enumerate(n_mask_neighbors)\n",
    "        ],\n",
    "        ncols=2,\n",
    "        labelspacing=0.1,\n",
    "        columnspacing=0.7\n",
    "    ),\n",
    ")\n",
    "plt.title('Global mask')\n",
    "plt.xlabel('Num. edges')\n",
    "plt.xscale('log')\n",
    "plt.yscale('log')\n",
    "plt.ylabel('')\n",
    "plt.yticks(yticks)\n",
    "plt.gca().set_yticklabels(['' for t in yticks])\n",
    "plt.ylim([t * 1000 for t in time_range])\n",
    "plt.savefig('./figures/benchmark_global_mask.pdf', pad_inches=0)\n",
    "plt.show()"
   ]
  },
  {
   "cell_type": "markdown",
   "id": "5a74f97d-2011-4f06-970e-4de491c506d9",
   "metadata": {},
   "source": [
    "Finally, the local mask's `apply time`. The input edge count's effect on the `apply time` is even smaller here, with almost horizontal line segments. The costs of sorting 5 and 40 neighbours do not differ too much, and our parallel implementation's efficiency might improve with increased per-iteration workload, hiding the scaling performance."
   ]
  },
  {
   "cell_type": "code",
   "execution_count": 53,
   "id": "532bc7bb-1871-4946-9e2c-3840de9884f8",
   "metadata": {
    "jupyter": {
     "source_hidden": true
    }
   },
   "outputs": [
    {
     "data": {
      "image/png": "[encoded data removed]",
      "text/plain": [
       "<Figure size 225.073x198.707 with 1 Axes>"
      ]
     },
     "metadata": {},
     "output_type": "display_data"
    }
   ],
   "source": [
    "fig = plt.figure(figsize=(base_width, height))\n",
    "plt.subplots_adjust(0.02 * (1+(15/85)), bottom_padding, 1, title_padding)\n",
    "gldf = df.query('algorithm==\"local_mask\"').join(udf, on=id_cols, rsuffix='_umap')\n",
    "blues = plt.get_cmap('Blues').resampled(6)\n",
    "n_mask_neighbors = [5, 10, 20, 40]\n",
    "gldf.apply_time *= 1000\n",
    "for n in [100, 1000, 10000, 100000]:\n",
    "    for i, k in enumerate(n_mask_neighbors):\n",
    "        if k >= n: \n",
    "            continue\n",
    "        sns.regplot(\n",
    "            gldf.query(f\"n_points=={n} & n_mask_neighbors=='{k}'\"), \n",
    "            x='n_edges_umap', \n",
    "            y='apply_time', \n",
    "            ci=95, \n",
    "            order=1,\n",
    "            units='repeat', \n",
    "            color=blues(i+1), \n",
    "            line_kws={'linewidth': 1},\n",
    "            scatter_kws=dict(edgecolor='none', linewidths=0, s=2)\n",
    "        )\n",
    "\n",
    "adjust_legend_subtitles(\n",
    "    plt.legend(\n",
    "        title='Mask neighbours',\n",
    "        handles=[\n",
    "            Line2D([], [], color=blues(i+1), label=k)\n",
    "            for i, k in enumerate(n_mask_neighbors)\n",
    "        ],\n",
    "        ncols=2,\n",
    "        labelspacing=0.1,\n",
    "        columnspacing=0.7\n",
    "    ),\n",
    ")\n",
    "plt.title('Local mask')\n",
    "plt.xscale('log')\n",
    "plt.yscale('log')\n",
    "plt.ylabel('')\n",
    "plt.yticks(yticks)\n",
    "plt.gca().set_yticklabels(['' for t in yticks])\n",
    "plt.xlabel('Num. edges')\n",
    "plt.ylim([t * 1000 for t in time_range])\n",
    "plt.savefig('./figures/benchmark_local_mask.pdf', pad_inches=0)\n",
    "plt.show()"
   ]
  }
 ],
 "metadata": {
  "kernelspec": {
   "display_name": "Python 3 (ipykernel)",
   "language": "python",
   "name": "python3"
  },
  "language_info": {
   "codemirror_mode": {
    "name": "ipython",
    "version": 3
   },
   "file_extension": ".py",
   "mimetype": "text/x-python",
   "name": "python",
   "nbconvert_exporter": "python",
   "pygments_lexer": "ipython3",
   "version": "3.9.19"
  }
 },
 "nbformat": 4,
 "nbformat_minor": 5
}
